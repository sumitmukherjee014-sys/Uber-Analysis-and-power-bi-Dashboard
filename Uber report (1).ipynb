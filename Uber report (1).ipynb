{
 "cells": [
  {
   "cell_type": "markdown",
   "id": "e2dfcd58-db39-4655-ba06-ad47ee1d29b1",
   "metadata": {},
   "source": [
    "# IMPORTING OUR CSV FILE AND MODULS"
   ]
  },
  {
   "cell_type": "code",
   "execution_count": 78,
   "id": "71da7326-e9db-4366-acc6-d17ab03f5125",
   "metadata": {},
   "outputs": [
    {
     "name": "stdout",
     "output_type": "stream",
     "text": [
      "                       Date      Time    Booking ID   Booking Status  \\\n",
      "0       2024-03-23 00:00:00  12:29:38  \"CNR5884300\"  No Driver Found   \n",
      "1       2024-11-29 00:00:00  18:01:39  \"CNR1326809\"       Incomplete   \n",
      "2       2024-08-23 00:00:00  08:56:10  \"CNR8494506\"        Completed   \n",
      "3       2024-10-21 00:00:00  17:17:25  \"CNR8906825\"        Completed   \n",
      "4       2024-09-16 00:00:00  22:08:00  \"CNR1950162\"        Completed   \n",
      "...                     ...       ...           ...              ...   \n",
      "149995  2024-11-11 00:00:00  19:34:01  \"CNR6500631\"        Completed   \n",
      "149996  2024-11-24 00:00:00  15:55:09  \"CNR2468611\"        Completed   \n",
      "149997  2024-09-18 00:00:00  10:55:15  \"CNR6358306\"        Completed   \n",
      "149998  2024-10-05 00:00:00  07:53:34  \"CNR3030099\"        Completed   \n",
      "149999  2024-03-10 00:00:00  15:38:03  \"CNR3447390\"        Completed   \n",
      "\n",
      "         Customer ID   Vehicle Type         Pickup Location  \\\n",
      "0       \"CID1982111\"          eBike             Palam Vihar   \n",
      "1       \"CID4604802\"       Go Sedan           Shastri Nagar   \n",
      "2       \"CID9202816\"           Auto                 Khandsa   \n",
      "3       \"CID2610914\"  Premier Sedan     Central Secretariat   \n",
      "4       \"CID9933542\"           Bike        Ghitorni Village   \n",
      "...              ...            ...                     ...   \n",
      "149995  \"CID4337371\"        Go Mini                 MG Road   \n",
      "149996  \"CID2325623\"        Go Mini        Golf Course Road   \n",
      "149997  \"CID9925486\"       Go Sedan  Satguru Ram Singh Marg   \n",
      "149998  \"CID9415487\"           Auto               Ghaziabad   \n",
      "149999  \"CID4108667\"  Premier Sedan         Ashok Park Main   \n",
      "\n",
      "            Drop Location  Avg VTAT  Avg CTAT  ...  Incomplete Rides  \\\n",
      "0                 Jhilmil       0.0       0.0  ...               NaN   \n",
      "1       Gurgaon Sector 56       4.9      14.0  ...               1.0   \n",
      "2           Malviya Nagar      13.4      25.8  ...               NaN   \n",
      "3                Inderlok      13.1      28.5  ...               NaN   \n",
      "4             Khan Market       5.3      19.6  ...               NaN   \n",
      "...                   ...       ...       ...  ...               ...   \n",
      "149995           Ghitorni      10.2      44.4  ...               NaN   \n",
      "149996         Akshardham       5.1      30.8  ...               NaN   \n",
      "149997           Jor Bagh       2.7      23.4  ...               NaN   \n",
      "149998         Saidulajab       6.9      39.6  ...               NaN   \n",
      "149999  Gurgaon Sector 29       3.5      33.7  ...               NaN   \n",
      "\n",
      "       Incomplete Rides Reason  Booking Value Ride Distance  Driver Ratings  \\\n",
      "0                         None              0          0.00             0.0   \n",
      "1            Vehicle Breakdown            237          5.73             0.0   \n",
      "2                         None            627         13.58             4.9   \n",
      "3                         None            416         34.02             4.6   \n",
      "4                         None            737         48.21             4.1   \n",
      "...                        ...            ...           ...             ...   \n",
      "149995                    None            475         40.08             3.7   \n",
      "149996                    None           1093         21.31             4.8   \n",
      "149997                    None            852         15.93             3.9   \n",
      "149998                    None            333         45.54             4.1   \n",
      "149999                    None            806         21.19             4.6   \n",
      "\n",
      "       Customer Rating  Payment Mode  Zone  Zone_ncr  Zone_Delhi_ncr  \n",
      "0                  0.0          None  None      None            None  \n",
      "1                  0.0           UPI  None      None            None  \n",
      "2                  4.9    Debit Card  None      None            None  \n",
      "3                  5.0           UPI  None      None            None  \n",
      "4                  4.3           UPI  None      None            None  \n",
      "...                ...           ...   ...       ...             ...  \n",
      "149995             4.1   Uber Wallet  None      None            None  \n",
      "149996             5.0           UPI  None      None            None  \n",
      "149997             4.4          Cash  None      None            None  \n",
      "149998             3.7           UPI  None      None            None  \n",
      "149999             4.9   Credit Card  None      None            None  \n",
      "\n",
      "[150000 rows x 24 columns]\n"
     ]
    }
   ],
   "source": [
    "import numpy as np\n",
    "import pandas as pd\n",
    "import sqlite3\n",
    "\n",
    "#Read your CSV file\n",
    "df = pd.read_csv(\"C:/Users/sumit/OneDrive/Desktop/excel data/ncr_ride_bookings.csv\")\n",
    "\n",
    "#connecting sql with database\n",
    "with sqlite3.connect(\"mydb.db\") as conn:\n",
    "#option 2: \n",
    "#conn=sqlite3.connect(\"mydb.db\")\n",
    "#cursor = conn.cursor() \n",
    "    tbale = pd.read_sql_query(\"Select * from ncr_ride_bookings\",conn)\n",
    "    print(tbale)\n",
    "df.rename(columns={'Payment Method': 'Payment Mode'}, inplace=True)\n",
    "# Save back to file\n",
    "df.to_csv(\"C:/Users/sumit/Downloads/archive/ncr_ride_bookings.csv\", index=False)"
   ]
  },
  {
   "cell_type": "code",
   "execution_count": 6,
   "id": "adff5378-b33c-4dd1-986b-3b85d949459a",
   "metadata": {},
   "outputs": [],
   "source": [
    "import warnings\n",
    "\n",
    "# Ignore all warnings\n",
    "warnings.filterwarnings('ignore')\n",
    "\n",
    "# Or ignore only FutureWarnings\n",
    "warnings.simplefilter(action='ignore', category=FutureWarning)"
   ]
  },
  {
   "cell_type": "markdown",
   "id": "6dd03b23-1538-41c7-9494-52995b29e53e",
   "metadata": {},
   "source": [
    "# Data Cleaning :\n",
    "- Converting NULL value into meaningfull Data\n",
    "- Changing Data types for analysis\n",
    "- Make the dataset accurate, consistent, and usable before analysis or visualization."
   ]
  },
  {
   "cell_type": "code",
   "execution_count": 7,
   "id": "03c8cb86-28db-4261-ba06-86685342b67d",
   "metadata": {},
   "outputs": [
    {
     "name": "stdout",
     "output_type": "stream",
     "text": [
      "        Date      Time    Booking ID   Booking Status   Customer ID  \\\n",
      "0 2024-03-23  12:29:38  \"CNR5884300\"  No Driver Found  \"CID1982111\"   \n",
      "1 2024-11-29  18:01:39  \"CNR1326809\"       Incomplete  \"CID4604802\"   \n",
      "2 2024-08-23  08:56:10  \"CNR8494506\"        Completed  \"CID9202816\"   \n",
      "3 2024-10-21  17:17:25  \"CNR8906825\"        Completed  \"CID2610914\"   \n",
      "4 2024-09-16  22:08:00  \"CNR1950162\"        Completed  \"CID9933542\"   \n",
      "5 2024-02-06  09:44:56  \"CNR4096693\"        Completed  \"CID4670564\"   \n",
      "6 2024-06-17  15:45:58  \"CNR2002539\"        Completed  \"CID6800553\"   \n",
      "7 2024-03-19  17:37:37  \"CNR6568000\"        Completed  \"CID8610436\"   \n",
      "8 2024-09-14  12:49:09  \"CNR4510807\"  No Driver Found  \"CID7873618\"   \n",
      "9 2024-12-16  19:06:48  \"CNR7721892\"       Incomplete  \"CID5214275\"   \n",
      "\n",
      "    Vehicle Type      Pickup Location      Drop Location  Avg VTAT  Avg CTAT  \\\n",
      "0          eBike          Palam Vihar            Jhilmil       0.0       0.0   \n",
      "1       Go Sedan        Shastri Nagar  Gurgaon Sector 56       4.9      14.0   \n",
      "2           Auto              Khandsa      Malviya Nagar      13.4      25.8   \n",
      "3  Premier Sedan  Central Secretariat           Inderlok      13.1      28.5   \n",
      "4           Bike     Ghitorni Village        Khan Market       5.3      19.6   \n",
      "5           Auto                AIIMS        Narsinghpur       5.1      18.1   \n",
      "6        Go Mini             Vaishali       Punjabi Bagh       7.1      20.4   \n",
      "7           Auto          Mayur Vihar          Cyber Hub      12.1      16.5   \n",
      "8       Go Sedan      Noida Sector 62    Noida Sector 18       0.0       0.0   \n",
      "9           Auto               Rohini       Adarsh Nagar       6.1      26.0   \n",
      "\n",
      "   ...  Reason for cancelling by Customer Cancelled Rides by Driver  \\\n",
      "0  ...                                NaN                         0   \n",
      "1  ...                                NaN                         0   \n",
      "2  ...                                NaN                         0   \n",
      "3  ...                                NaN                         0   \n",
      "4  ...                                NaN                         0   \n",
      "5  ...                                NaN                         0   \n",
      "6  ...                                NaN                         0   \n",
      "7  ...                                NaN                         0   \n",
      "8  ...                                NaN                         0   \n",
      "9  ...                                NaN                         0   \n",
      "\n",
      "   Driver Cancellation Reason Incomplete Rides  Incomplete Rides Reason  \\\n",
      "0                         NaN              NaN                      NaN   \n",
      "1                         NaN              1.0        Vehicle Breakdown   \n",
      "2                         NaN              NaN                      NaN   \n",
      "3                         NaN              NaN                      NaN   \n",
      "4                         NaN              NaN                      NaN   \n",
      "5                         NaN              NaN                      NaN   \n",
      "6                         NaN              NaN                      NaN   \n",
      "7                         NaN              NaN                      NaN   \n",
      "8                         NaN              NaN                      NaN   \n",
      "9                         NaN              1.0              Other Issue   \n",
      "\n",
      "  Booking Value  Ride Distance  Driver Ratings  Customer Rating  Payment Mode  \n",
      "0             0           0.00             0.0              0.0           NaN  \n",
      "1           237           5.73             0.0              0.0           UPI  \n",
      "2           627          13.58             4.9              4.9    Debit Card  \n",
      "3           416          34.02             4.6              5.0           UPI  \n",
      "4           737          48.21             4.1              4.3           UPI  \n",
      "5           316           4.85             4.1              4.6           UPI  \n",
      "6           640          41.24             4.0              4.1           UPI  \n",
      "7           136           6.56             4.4              4.2           UPI  \n",
      "8             0           0.00             0.0              0.0           NaN  \n",
      "9           135          10.36             0.0              0.0          Cash  \n",
      "\n",
      "[10 rows x 21 columns]\n",
      "   count(*)\n",
      "0         0\n"
     ]
    }
   ],
   "source": [
    "#Total Count of Null values.\n",
    "null_value = pd.read_sql_query('select count(*) from ncr_ride_bookings where \"Avg VTAT\" and \"Avg CTAT\" is NULL;',conn)\n",
    "\n",
    "#Changing Null values of Avg VTAT into 0 to make data usable\n",
    "df['Avg VTAT'].fillna(0,inplace=True)\n",
    "df.to_sql(\"ncr_ride_bookings\", conn, if_exists='replace', index=False)\n",
    "\n",
    "#Changing Null values of Avg CTAT into 0 to make data usable\n",
    "df['Avg CTAT'].fillna(0,inplace=True)\n",
    "df.to_sql(\"ncr_ride_bookings\", conn, if_exists='replace', index=False)\n",
    "\n",
    "#Changing Data type of Date.\n",
    "df['Date'] = pd.to_datetime(df['Date'])\n",
    "print(df.head(10))\n",
    "print(null_value)"
   ]
  },
  {
   "cell_type": "code",
   "execution_count": 76,
   "id": "f6be719e-0da8-4c5d-a307-e141a7048d62",
   "metadata": {
    "scrolled": true
   },
   "outputs": [
    {
     "name": "stdout",
     "output_type": "stream",
     "text": [
      "<class 'pandas.core.frame.DataFrame'>\n",
      "RangeIndex: 150000 entries, 0 to 149999\n",
      "Data columns (total 22 columns):\n",
      " #   Column                             Non-Null Count   Dtype  \n",
      "---  ------                             --------------   -----  \n",
      " 0   Date                               150000 non-null  object \n",
      " 1   Time                               150000 non-null  object \n",
      " 2   Booking ID                         150000 non-null  object \n",
      " 3   Booking Status                     150000 non-null  object \n",
      " 4   Customer ID                        150000 non-null  object \n",
      " 5   Vehicle Type                       150000 non-null  object \n",
      " 6   Pickup Location                    150000 non-null  object \n",
      " 7   Drop Location                      150000 non-null  object \n",
      " 8   Avg VTAT                           150000 non-null  float64\n",
      " 9   Avg CTAT                           150000 non-null  float64\n",
      " 10  Cancelled Rides by Customer        150000 non-null  int64  \n",
      " 11  Reason for cancelling by Customer  10500 non-null   object \n",
      " 12  Cancelled Rides by Driver          150000 non-null  int64  \n",
      " 13  Driver Cancellation Reason         27000 non-null   object \n",
      " 14  Incomplete Rides                   9000 non-null    float64\n",
      " 15  Incomplete Rides Reason            9000 non-null    object \n",
      " 16  Booking Value                      150000 non-null  int64  \n",
      " 17  Ride Distance                      150000 non-null  float64\n",
      " 18  Driver Ratings                     150000 non-null  float64\n",
      " 19  Customer Rating                    150000 non-null  float64\n",
      " 20  Payment Mode                       102000 non-null  object \n",
      " 21  Zone                               150000 non-null  object \n",
      "dtypes: float64(6), int64(3), object(13)\n",
      "memory usage: 25.2+ MB\n"
     ]
    }
   ],
   "source": [
    "df.info()"
   ]
  },
  {
   "cell_type": "code",
   "execution_count": 77,
   "id": "17497a6f-2e2e-4985-8b7f-536cd7675c00",
   "metadata": {},
   "outputs": [
    {
     "name": "stdout",
     "output_type": "stream",
     "text": [
      "                       Date      Time    Booking ID   Booking Status  \\\n",
      "0       2024-03-23 00:00:00  12:29:38  \"CNR5884300\"  No Driver Found   \n",
      "1       2024-11-29 00:00:00  18:01:39  \"CNR1326809\"       Incomplete   \n",
      "2       2024-08-23 00:00:00  08:56:10  \"CNR8494506\"        Completed   \n",
      "3       2024-10-21 00:00:00  17:17:25  \"CNR8906825\"        Completed   \n",
      "4       2024-09-16 00:00:00  22:08:00  \"CNR1950162\"        Completed   \n",
      "...                     ...       ...           ...              ...   \n",
      "149995  2024-11-11 00:00:00  19:34:01  \"CNR6500631\"        Completed   \n",
      "149996  2024-11-24 00:00:00  15:55:09  \"CNR2468611\"        Completed   \n",
      "149997  2024-09-18 00:00:00  10:55:15  \"CNR6358306\"        Completed   \n",
      "149998  2024-10-05 00:00:00  07:53:34  \"CNR3030099\"        Completed   \n",
      "149999  2024-03-10 00:00:00  15:38:03  \"CNR3447390\"        Completed   \n",
      "\n",
      "         Customer ID   Vehicle Type         Pickup Location  \\\n",
      "0       \"CID1982111\"          eBike             Palam Vihar   \n",
      "1       \"CID4604802\"       Go Sedan           Shastri Nagar   \n",
      "2       \"CID9202816\"           Auto                 Khandsa   \n",
      "3       \"CID2610914\"  Premier Sedan     Central Secretariat   \n",
      "4       \"CID9933542\"           Bike        Ghitorni Village   \n",
      "...              ...            ...                     ...   \n",
      "149995  \"CID4337371\"        Go Mini                 MG Road   \n",
      "149996  \"CID2325623\"        Go Mini        Golf Course Road   \n",
      "149997  \"CID9925486\"       Go Sedan  Satguru Ram Singh Marg   \n",
      "149998  \"CID9415487\"           Auto               Ghaziabad   \n",
      "149999  \"CID4108667\"  Premier Sedan         Ashok Park Main   \n",
      "\n",
      "            Drop Location  Avg VTAT  Avg CTAT  ...  Incomplete Rides  \\\n",
      "0                 Jhilmil       0.0       0.0  ...               NaN   \n",
      "1       Gurgaon Sector 56       4.9      14.0  ...               1.0   \n",
      "2           Malviya Nagar      13.4      25.8  ...               NaN   \n",
      "3                Inderlok      13.1      28.5  ...               NaN   \n",
      "4             Khan Market       5.3      19.6  ...               NaN   \n",
      "...                   ...       ...       ...  ...               ...   \n",
      "149995           Ghitorni      10.2      44.4  ...               NaN   \n",
      "149996         Akshardham       5.1      30.8  ...               NaN   \n",
      "149997           Jor Bagh       2.7      23.4  ...               NaN   \n",
      "149998         Saidulajab       6.9      39.6  ...               NaN   \n",
      "149999  Gurgaon Sector 29       3.5      33.7  ...               NaN   \n",
      "\n",
      "       Incomplete Rides Reason  Booking Value Ride Distance  Driver Ratings  \\\n",
      "0                         None              0          0.00             0.0   \n",
      "1            Vehicle Breakdown            237          5.73             0.0   \n",
      "2                         None            627         13.58             4.9   \n",
      "3                         None            416         34.02             4.6   \n",
      "4                         None            737         48.21             4.1   \n",
      "...                        ...            ...           ...             ...   \n",
      "149995                    None            475         40.08             3.7   \n",
      "149996                    None           1093         21.31             4.8   \n",
      "149997                    None            852         15.93             3.9   \n",
      "149998                    None            333         45.54             4.1   \n",
      "149999                    None            806         21.19             4.6   \n",
      "\n",
      "       Customer Rating  Payment Mode  Zone  Zone_ncr  Zone_Delhi_ncr  \n",
      "0                  0.0          None  None      None            None  \n",
      "1                  0.0           UPI  None      None            None  \n",
      "2                  4.9    Debit Card  None      None            None  \n",
      "3                  5.0           UPI  None      None            None  \n",
      "4                  4.3           UPI  None      None            None  \n",
      "...                ...           ...   ...       ...             ...  \n",
      "149995             4.1   Uber Wallet  None      None            None  \n",
      "149996             5.0           UPI  None      None            None  \n",
      "149997             4.4          Cash  None      None            None  \n",
      "149998             3.7           UPI  None      None            None  \n",
      "149999             4.9   Credit Card  None      None            None  \n",
      "\n",
      "[150000 rows x 24 columns]\n"
     ]
    }
   ],
   "source": [
    "da = pd.read_sql_query(\"select * from ncr_ride_bookings\",conn)\n",
    "print(da)"
   ]
  },
  {
   "cell_type": "markdown",
   "id": "97044789-2731-4927-b315-5f18df5f133b",
   "metadata": {},
   "source": [
    "# DATA MINING"
   ]
  },
  {
   "cell_type": "markdown",
   "id": "7431b5e1-41c7-4274-a3d7-c04eac71d122",
   "metadata": {},
   "source": [
    "## Total Completed & Incomplete Rides:\n",
    "Number of Completed & Incomplete Rides"
   ]
  },
  {
   "cell_type": "code",
   "execution_count": 10,
   "id": "834ff87c-e65c-44f8-8db8-161984bcdb93",
   "metadata": {},
   "outputs": [
    {
     "name": "stdout",
     "output_type": "stream",
     "text": [
      "   Total Rides\n",
      "0       150000\n",
      "   Total Completed Ride\n",
      "0                 93000\n",
      "   Total Incomplete Ride\n",
      "0                  57000\n"
     ]
    }
   ],
   "source": [
    "Total_Ride = pd.read_sql_query(\"Select count('Booking Status') as 'Total Rides' from ncr_ride_bookings as Total_Rides\",conn)\n",
    "Total_Ride_Completed = pd.read_sql_query(\"Select count(*)  as 'Total Completed Ride' from ncr_ride_bookings WHERE [Booking Status] = 'Completed';\",conn)\n",
    "\n",
    "#Sum of all kind of incomplete ride:\n",
    "Total_Ride_Incomplete = pd.read_sql_query(\"Select count(*)  as 'Total Incomplete Ride' from ncr_ride_bookings WHERE [Booking Status] in ('Incomplete','No Driver Found','Cancelled by Customer','Cancelled by Driver');\",conn)\n",
    "print(Total_Ride)\n",
    "print(Total_Ride_Completed)\n",
    "print(Total_Ride_Incomplete)"
   ]
  },
  {
   "cell_type": "markdown",
   "id": "bf28bcdb-5abe-496e-96fe-b04d09f00c27",
   "metadata": {},
   "source": [
    "## Total Completed & Incomplete Rides By Vehicle:\n",
    "Number of Completed & Incomplete Rides By vehical to Find which vehical is most popular amoung users and which one need more attention"
   ]
  },
  {
   "cell_type": "code",
   "execution_count": 11,
   "id": "27eadd23-ec48-4abb-854b-5c2f91612949",
   "metadata": {},
   "outputs": [
    {
     "name": "stdout",
     "output_type": "stream",
     "text": [
      "    Vehicle Type  Total Completed Ride  Total Amount (miilion) Completed Ride\n",
      "0           Auto                 23155                                   11.0\n",
      "1           Bike                 14034                                    7.0\n",
      "2        Go Mini                 18549                                    9.0\n",
      "3       Go Sedan                 16676                                    8.0\n",
      "4  Premier Sedan                 11252                                    5.0\n",
      "5        Uber XL                  2783                                    1.0\n",
      "6          eBike                  6551                                    3.0\n",
      "    Vehicle Type  Total Incompleted Ride  Total Amount (Lakh) Incompleted Ride\n",
      "0           Auto                   14264                                  11.0\n",
      "1           Bike                    8483                                   6.0\n",
      "2        Go Mini                   11257                                   9.0\n",
      "3       Go Sedan                   10465                                   8.0\n",
      "4  Premier Sedan                    6859                                   5.0\n",
      "5        Uber XL                    1666                                   1.0\n",
      "6          eBike                    4006                                   3.0\n"
     ]
    }
   ],
   "source": [
    "#Sum of Completed ride And group by vehicle type:\n",
    "Total_Ride_Completed_vh = pd.read_sql_query(\"SELECT [Vehicle Type], COUNT([Vehicle Type]) AS [Total Completed Ride],round(sum([Booking Value])/1000000,2) AS [Total Amount (miilion) Completed Ride] FROM ncr_ride_bookings WHERE [Booking Status] = 'Completed' GROUP BY [Vehicle Type];\",conn)\n",
    "\n",
    "#Sum of all kind of incomplete ride And group by vehicle type:\n",
    "Total_Ride_Incomplete_vh = pd.read_sql_query(\"SELECT [Vehicle Type], COUNT([Vehicle Type]) AS [Total Incompleted Ride],round(sum([Booking Value])/100000,2) AS [Total Amount (Lakh) Incompleted Ride] from ncr_ride_bookings WHERE [Booking Status] in ('Incomplete','No Driver Found','Cancelled by Customer','Cancelled by Driver') GROUP BY [Vehicle Type];\",conn)\n",
    "\n",
    "print(Total_Ride_Completed_vh)\n",
    "\n",
    "print(Total_Ride_Incomplete_vh)"
   ]
  },
  {
   "cell_type": "markdown",
   "id": "93a14693-3f9f-43f4-bbe6-4078791cc529",
   "metadata": {},
   "source": [
    "# Operational KPIs\n",
    "Average Trip Duration → AVG(Trip Duration)\n",
    "\n",
    "Average Trip Distance → AVG(Trip Distance)\n",
    "\n",
    "Peak Ride Hours → Time period with highest ride frequency.\n",
    "\n",
    "Ride Cancellation Rate (%) → (Cancelled Rides / Total Rides) * 100"
   ]
  },
  {
   "cell_type": "code",
   "execution_count": 105,
   "id": "850ade04-104a-4533-8d34-fabcb9a719f7",
   "metadata": {},
   "outputs": [
    {
     "name": "stdout",
     "output_type": "stream",
     "text": [
      "   Avg VTAT  Total Hour by vendor  Average Trip minutes by vendor\n",
      "0       0.0          19661.018333                        7.864407\n",
      "   Avg CTAT  Total Hour by Customer  Average Trip minutes by Customer\n",
      "0       0.0            49554.381667                         19.821753\n",
      "   Ride Distance  Total Distance(KMs)  Average Trip Distance(KMs)\n",
      "0            0.0           2512975.19                   16.753168\n",
      "   Ride Cancellation Rate (%)  Total Rides\n",
      "0                        38.0       150000\n"
     ]
    }
   ],
   "source": [
    "# Average Trip Duration by vendor\n",
    "Avg_duration_by_vendor = pd.read_sql_query(\"Select [Avg VTAT],sum([Avg VTAT])/60 as 'Total Hour by vendor',sum([Avg VTAT])/count([Avg VTAT]) as 'Average Trip minutes by vendor' from ncr_ride_bookings\",conn)\n",
    "print(Avg_duration_by_vendor)\n",
    "\n",
    "# Average Trip Duration by Customer\n",
    "Avg_duration_by_Customer = pd.read_sql_query(\"Select [Avg CTAT],sum([Avg CTAT])/60 as 'Total Hour by Customer',sum([Avg CTAT])/count([Avg CTAT]) as 'Average Trip minutes by Customer' from ncr_ride_bookings\",conn)\n",
    "print(Avg_duration_by_Customer)\n",
    "\n",
    "# Average Trip Distance\n",
    "Avg_distance = pd.read_sql_query(\"Select [Ride Distance],sum([Ride Distance]) as 'Total Distance(KMs)',sum([Ride Distance])/count([Ride Distance]) as 'Average Trip Distance(KMs)' from ncr_ride_bookings\",conn)\n",
    "print(Avg_distance)\n",
    "\n",
    "cancellation_rate = pd.read_sql_query(\n",
    "    \"\"\"\n",
    "    SELECT \n",
    "        ROUND\n",
    "            (SUM([Booking Status] in ('Incomplete','No Driver Found','Cancelled by Customer','Cancelled by Driver') * 100.0) / COUNT(*),\n",
    "            2) AS [Ride Cancellation Rate (%)],\n",
    "        COUNT(*) AS [Total Rides]\n",
    "    FROM ncr_ride_bookings;\n",
    "    \"\"\",\n",
    "    conn\n",
    ")\n",
    "\n",
    "print(cancellation_rate)\n",
    "\n"
   ]
  },
  {
   "cell_type": "code",
   "execution_count": 12,
   "id": "cdf82cff-94b5-4db0-827a-af3486e22d0e",
   "metadata": {},
   "outputs": [
    {
     "name": "stdout",
     "output_type": "stream",
     "text": [
      "  Hour  Total Rides\n",
      "0   18        12397\n",
      "1   19        11047\n",
      "2   17        11044\n",
      "3   16         9633\n",
      "4   20         9630\n"
     ]
    }
   ],
   "source": [
    "peak_hours = pd.read_sql_query(\n",
    "    \"\"\"\n",
    "    SELECT \n",
    "        STRFTIME('%H', [Time]) AS Hour,\n",
    "        COUNT(*) AS [Total Rides]\n",
    "    FROM ncr_ride_bookings\n",
    "    GROUP BY STRFTIME('%H', [Time])\n",
    "    ORDER BY [Total Rides] DESC;\n",
    "    \"\"\",\n",
    "    conn\n",
    ")\n",
    "\n",
    "print(peak_hours.head(5))\n"
   ]
  },
  {
   "cell_type": "markdown",
   "id": "f1ccb671-0b80-456c-8d96-961f069f463c",
   "metadata": {},
   "source": [
    "### Here we can see from 18(6PM) to 20(10PM) is the Peak Hour, A large number of customer booking during this time duration\n",
    "### We can increase Our services in these Hours."
   ]
  },
  {
   "cell_type": "code",
   "execution_count": 23,
   "id": "04223c98-9172-4341-a346-a36c24911fcf",
   "metadata": {},
   "outputs": [
    {
     "name": "stdout",
     "output_type": "stream",
     "text": [
      "    Day_Name  Total Rides\n",
      "0     Monday        21644\n",
      "1   Saturday        21542\n",
      "2  Wednesday        21413\n",
      "3     Sunday        21398\n",
      "4     Friday        21397\n",
      "5    Tuesday        21391\n",
      "6   Thursday        21215\n"
     ]
    }
   ],
   "source": [
    "df['Date'] = pd.to_datetime(df['Date'], errors='coerce')  # Convert to datetime\n",
    "df.to_sql('ncr_ride_bookings', conn, if_exists='replace', index=False)\n",
    "\n",
    "\n",
    "peak_Days = pd.read_sql_query(\n",
    "    \"\"\"\n",
    "    SELECT \n",
    "        CASE strftime('%w', [Date])\n",
    "            WHEN '0' THEN 'Sunday'\n",
    "            WHEN '1' THEN 'Monday'\n",
    "            WHEN '2' THEN 'Tuesday'\n",
    "            WHEN '3' THEN 'Wednesday'\n",
    "            WHEN '4' THEN 'Thursday'\n",
    "            WHEN '5' THEN 'Friday'\n",
    "            WHEN '6' THEN 'Saturday'\n",
    "        END AS [Day_Name],\n",
    "        COUNT(*) AS [Total Rides]\n",
    "    FROM ncr_ride_bookings\n",
    "    GROUP BY [Day_Name]\n",
    "    ORDER BY [Total Rides] DESC;\n",
    "    \"\"\",\n",
    "    conn\n",
    ")\n",
    "\n",
    "print(peak_Days)"
   ]
  },
  {
   "cell_type": "markdown",
   "id": "8974cf43-fcd6-414d-a1b5-c111096818bb",
   "metadata": {},
   "source": [
    "### As we can see in the above analysis on monday 6PM to 10Pm is the peak day and hour."
   ]
  },
  {
   "cell_type": "code",
   "execution_count": 48,
   "id": "0ba0db6b-0a60-4fc7-a30e-a9e89f183e18",
   "metadata": {},
   "outputs": [
    {
     "name": "stdout",
     "output_type": "stream",
     "text": [
      "   Total revenue(Million)\n",
      "0                    51.0\n",
      "    Vehicle Type  Total revenue  Ride total fare(Million)\n",
      "0           Auto       12878422                      12.0\n",
      "1        Go Mini       10338496                      10.0\n",
      "2       Go Sedan        9369719                       9.0\n",
      "3           Bike        7837697                       7.0\n",
      "4  Premier Sedan        6275332                       6.0\n",
      "5          eBike        3618485                       3.0\n",
      "6        Uber XL        1528032                       1.0\n"
     ]
    }
   ],
   "source": [
    "Ride_revenue = pd.read_sql_query(\"select round(sum([Booking Value])/1000000,4) as 'Total revenue(Million)' from ncr_ride_bookings;\",conn)\n",
    "print(Ride_revenue)\n",
    "\n",
    "Ride_revenue_VH = pd.read_sql_query(\"select [Vehicle Type],sum([Booking Value]) as 'Total revenue',round(sum([Booking Value])/1000000,2) as 'Ride total fare(Million)' from ncr_ride_bookings group by [Vehicle Type] order by sum([Booking Value]) desc;\",conn)\n",
    "print(Ride_revenue_VH)"
   ]
  },
  {
   "cell_type": "markdown",
   "id": "cbab0e33-3900-4f22-b7b1-e11e5b5d9f64",
   "metadata": {},
   "source": [
    "### On above Analysis we can see our Total Revenue is 51millions And top 3 Performer vehicles are:\n",
    "-Auto with 12 millions\n",
    "-Go Mini with  10 millions\n",
    "-Go Sedan with 9 millions\n",
    "### ebike and Uber XL are the least performer vehicles with total 4millions"
   ]
  },
  {
   "cell_type": "code",
   "execution_count": null,
   "id": "b13a51fa-4593-4897-b292-fd00ad4fa892",
   "metadata": {},
   "outputs": [],
   "source": []
  }
 ],
 "metadata": {
  "kernelspec": {
   "display_name": "Python 3 (ipykernel)",
   "language": "python",
   "name": "python3"
  },
  "language_info": {
   "codemirror_mode": {
    "name": "ipython",
    "version": 3
   },
   "file_extension": ".py",
   "mimetype": "text/x-python",
   "name": "python",
   "nbconvert_exporter": "python",
   "pygments_lexer": "ipython3",
   "version": "3.12.3"
  }
 },
 "nbformat": 4,
 "nbformat_minor": 5
}
